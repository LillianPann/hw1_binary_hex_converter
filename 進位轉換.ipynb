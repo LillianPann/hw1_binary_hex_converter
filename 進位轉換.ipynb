{
  "nbformat": 4,
  "nbformat_minor": 0,
  "metadata": {
    "colab": {
      "provenance": []
    },
    "kernelspec": {
      "name": "python3",
      "display_name": "Python 3"
    },
    "language_info": {
      "name": "python"
    }
  },
  "cells": [
    {
      "cell_type": "code",
      "source": [
        "binary=[]\n",
        "hex=[]\n",
        "def converter_binary(n):\n",
        "  if n==0:\n",
        "    return \"0\"\n",
        "  while n>0:\n",
        "    save1=n%2\n",
        "    binary.append(str(save1))\n",
        "    n=n//2\n",
        "  binary.reverse()\n",
        "  return \"\".join(binary)\n",
        "def converter_hexadecimal(n):\n",
        "  if n==0:\n",
        "    return \"0\"\n",
        "  hex_digits = \"0123456789ABCDEF\"\n",
        "  while n>0:\n",
        "    save2=n%16\n",
        "    hex.append(hex_digits[save2])\n",
        "    n=n//16\n",
        "  hex.reverse()\n",
        "  return \"\".join(hex)\n",
        "\n",
        "num=input(\"請輸入0-255之間的整數:\")\n",
        "if num.isdigit():\n",
        "  num=int(num)\n",
        "  if 0<=num<=255:\n",
        "    print(\"二進位轉換結果為:\"+converter_binary(num)+\"\\n十六進位轉換結果為:0x\"+converter_hexadecimal(num))\n",
        "  else:\n",
        "    print(\"請重新輸入0-255的整數!\")\n",
        "else:\n",
        "  print(\"格式錯誤，請重新輸入!\")"
      ],
      "metadata": {
        "colab": {
          "base_uri": "https://localhost:8080/"
        },
        "id": "eheGccJVy9My",
        "outputId": "d359093b-1c66-4627-c861-713365e9195a"
      },
      "execution_count": 41,
      "outputs": [
        {
          "output_type": "stream",
          "name": "stdout",
          "text": [
            "請輸入0-255之間的整數:230\n",
            "二進位轉換結果為:11100110\n",
            "十六進位轉換結果為:0xE6\n"
          ]
        }
      ]
    }
  ]
}